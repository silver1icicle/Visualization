{
 "cells": [
  {
   "cell_type": "markdown",
   "metadata": {},
   "source": [
    "# Plotting histograms in Python\n",
    "# Histograms are a great tool for viewing the probability distribution. It is somewhat similar to a bar graph.\n",
    "## You can use any of these libraries for creating one: NumPy, Matplotlib, Pandas and Seaborn\n",
    "\n",
    "## You have a data set and you wish to see the histogram of the \"Age\" column"
   ]
  },
  {
   "cell_type": "code",
   "execution_count": 20,
   "metadata": {
    "collapsed": false
   },
   "outputs": [
    {
     "name": "stdout",
     "output_type": "stream",
     "text": [
      "   RowNumber  CustomerId   Surname  CreditScore Geography  GenderCategory  \\\n",
      "0          1    15634602  Hargrave          619    France               1   \n",
      "1          2    15647311      Hill          608     Spain               1   \n",
      "2          3    15619304      Onio          502    France               1   \n",
      "3          4    15701354      Boni          699    France               1   \n",
      "4          5    15737888  Mitchell          850     Spain               1   \n",
      "\n",
      "   Gender  Age  Tenure    Balance  NumOfProducts  HasCrCard  IsActiveMember  \\\n",
      "0  Female   42       2       0.00              1          1               1   \n",
      "1  Female   41       1   83807.86              1          0               1   \n",
      "2  Female   42       8  159660.80              3          1               0   \n",
      "3  Female   39       1       0.00              2          0               0   \n",
      "4  Female   43       2  125510.82              1          1               1   \n",
      "\n",
      "   EstimatedSalary  Exited  \n",
      "0        101348.88       1  \n",
      "1        112542.58       0  \n",
      "2        113931.57       1  \n",
      "3         93826.63       0  \n",
      "4         79084.10       0  \n",
      "**********************************\n",
      "[ 49.  40.  53.  84.  99. 132. 154. 200. 209. 621. 327. 404. 418. 442.\n",
      " 447. 474. 456. 478. 477. 855. 366. 321. 297. 257. 229. 226. 175. 168.\n",
      " 281. 119. 102.  74.  84.  82.  70.  75.  67.  62. 115.  52.  40.  37.\n",
      "  18.  35.  37.  19.  22.  45.  21.  13.  18.   9.  11.  10.   5.   4.\n",
      "   3.   5.   1.   2.   1.   0.   0.   1.   0.   0.   2.]\n",
      "[18.         19.10447761 20.20895522 21.31343284 22.41791045 23.52238806\n",
      " 24.62686567 25.73134328 26.8358209  27.94029851 29.04477612 30.14925373\n",
      " 31.25373134 32.35820896 33.46268657 34.56716418 35.67164179 36.7761194\n",
      " 37.88059701 38.98507463 40.08955224 41.19402985 42.29850746 43.40298507\n",
      " 44.50746269 45.6119403  46.71641791 47.82089552 48.92537313 50.02985075\n",
      " 51.13432836 52.23880597 53.34328358 54.44776119 55.55223881 56.65671642\n",
      " 57.76119403 58.86567164 59.97014925 61.07462687 62.17910448 63.28358209\n",
      " 64.3880597  65.49253731 66.59701493 67.70149254 68.80597015 69.91044776\n",
      " 71.01492537 72.11940299 73.2238806  74.32835821 75.43283582 76.53731343\n",
      " 77.64179104 78.74626866 79.85074627 80.95522388 82.05970149 83.1641791\n",
      " 84.26865672 85.37313433 86.47761194 87.58208955 88.68656716 89.79104478\n",
      " 90.89552239 92.        ]\n",
      "<a list of 67 Patch objects>\n",
      "**********************************\n",
      "855.0\n"
     ]
    },
    {
     "data": {
      "text/plain": [
       "(0.0, 860.0)"
      ]
     },
     "execution_count": 20,
     "metadata": {},
     "output_type": "execute_result"
    },
    {
     "data": {
      "image/png": "[encoded data removed]",
      "text/plain": [
       "<Figure size 432x288 with 1 Axes>"
      ]
     },
     "metadata": {},
     "output_type": "display_data"
    }
   ],
   "source": [
    "# Import libraries\n",
    "import pandas as pd\n",
    "import numpy as np\n",
    "import matplotlib.pyplot as plt \n",
    "import statistics\n",
    "%matplotlib inline\n",
    "\n",
    "# Read the data\n",
    "df = pd.read_csv(\"E:/DropBox_USA/Dropbox/Git/DataSets/Churn_Modelling.csv\")\n",
    "print(df.head())\n",
    "\n",
    "# Plot the histogram\n",
    "# hist() returns:\n",
    "# n - Array or list of arrays - Value of histogram bins\n",
    "# bins - The edges of the bins\n",
    "# patches - ?\n",
    "# Parameters to the hist():\n",
    "# x - The actual data to be plotted\n",
    "# bins = 'auto' - Let the bins be decided automatically\n",
    "# rwidth - The relative width of the bars as a fraction of the bin width. If None, automatically compute the width.\n",
    "\n",
    "n, bins, patches = plt.hist(x=df.Age, bins='auto', color=\"#0509BB\", alpha=0.7, rwidth=0.65)\n",
    "print(\"**********************************\")\n",
    "print(n)\n",
    "print(bins)\n",
    "print(patches)\n",
    "print(\"**********************************\")\n",
    "\n",
    "plt.grid(axis = 'y', alpha=0.75)\n",
    "plt.xlabel(\"Age\")\n",
    "plt.ylabel(\"Frequency\")\n",
    "plt.title(\"Histogram of Age\")\n",
    "\n",
    "mu = np.mean(df.Age)                                      # Compute the mean of the data\n",
    "sd = statistics.stdev(df.Age)                             # Compute the SD of the data\n",
    "plt.text(50,600, (r\"$\\mu=%f, b=%f$\") % (mu, sd))          # Custom text at specific location on the plot\n",
    "\n",
    "# Set a clean upper y-axis limit\n",
    "maxfreq = n.max()\n",
    "print(maxfreq)\n",
    "plt.ylim(ymax=np.ceil(maxfreq/10) * 10 if maxfreq % 10 else maxfreq + 10)\n"
   ]
  }
 ],
 "metadata": {
  "kernelspec": {
   "display_name": "Python 3",
   "language": "python",
   "name": "python3"
  },
  "language_info": {
   "codemirror_mode": {
    "name": "ipython",
    "version": 3
   },
   "file_extension": ".py",
   "mimetype": "text/x-python",
   "name": "python",
   "nbconvert_exporter": "python",
   "pygments_lexer": "ipython3",
   "version": "3.6.0"
  }
 },
 "nbformat": 4,
 "nbformat_minor": 2
}
