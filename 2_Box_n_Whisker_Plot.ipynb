{
 "cells": [
  {
   "cell_type": "code",
   "execution_count": 11,
   "metadata": {
    "collapsed": false
   },
   "outputs": [
    {
     "data": {
      "image/png": "[encoded data removed]",
      "text/plain": [
       "<Figure size 432x288 with 1 Axes>"
      ]
     },
     "metadata": {},
     "output_type": "display_data"
    }
   ],
   "source": [
    "import matplotlib.pyplot as plt\n",
    "import pandas as pd\n",
    "%matplotlib inline\n",
    "\n",
    "df = pd.read_csv(\"Churn_Modelling.csv\")\n",
    "#print(df.Age)\n",
    "plt.boxplot(df.Age)\n",
    "plt.show()\n"
   ]
  },
  {
   "cell_type": "markdown",
   "metadata": {},
   "source": [
    "# Interpretation:\n",
    "# The length of the box represents the IQR (Q3 - Q1) – A nice measure of spread. \n",
    "\n",
    "# The central line within the box indicates the median or the middle value. \n",
    "\n",
    "# The whiskers point to the max and the min value. \n",
    "\n",
    "# The points outside the plot represent the points outside the wide range of  [Q1 - 1.5 * IQR, Q3 + 1.5 * IQR]. These are the outliers. Thus the box and whisker plots help us identify the outliers in the data. \n",
    "\n",
    "# If we align the graph horizontally, we can infer from the presence of the outliers that the distribution is not symmetric, rather it is right skewed. \n"
   ]
  },
  {
   "cell_type": "code",
   "execution_count": null,
   "metadata": {
    "collapsed": true
   },
   "outputs": [],
   "source": []
  }
 ],
 "metadata": {
  "kernelspec": {
   "display_name": "Python 3",
   "language": "python",
   "name": "python3"
  },
  "language_info": {
   "codemirror_mode": {
    "name": "ipython",
    "version": 3
   },
   "file_extension": ".py",
   "mimetype": "text/x-python",
   "name": "python",
   "nbconvert_exporter": "python",
   "pygments_lexer": "ipython3",
   "version": "3.6.0"
  }
 },
 "nbformat": 4,
 "nbformat_minor": 2
}
